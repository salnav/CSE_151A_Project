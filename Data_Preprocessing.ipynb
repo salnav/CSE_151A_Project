{
 "cells": [
  {
   "cell_type": "code",
   "execution_count": 1,
   "id": "fa4dc29a-a63b-4ae7-b221-98fc1e53d126",
   "metadata": {},
   "outputs": [],
   "source": [
    "import torch\n",
    "import pandas as pd\n",
    "import numpy as np\n",
    "from sklearn.model_selection import train_test_split"
   ]
  },
  {
   "cell_type": "code",
   "execution_count": 2,
   "id": "88776615-c12b-458e-9ddd-afc51886b33b",
   "metadata": {},
   "outputs": [
    {
     "name": "stdout",
     "output_type": "stream",
     "text": [
      "here1\n"
     ]
    }
   ],
   "source": [
    "labels = []\n",
    "pixels = []\n",
    "for chunk in pd.read_csv('character+font+images.csv', chunksize=10000):\n",
    "    labels.extend(chunk['m_label'].values)\n",
    "    pixels.extend(chunk.iloc[:, 12:].values / 255.0)\n",
    "\n",
    "labels = torch.tensor(labels, dtype=torch.long)\n",
    "pixels = np.array(pixels, dtype=np.float32)\n",
    "pixels = torch.tensor(pixels)\n",
    "print('here1')\n",
    "train_data, temp_data, train_labels, temp_labels = train_test_split(pixels.numpy(), labels.numpy(), test_size=0.2, random_state=42)\n",
    "\n",
    "val_data, test_data, val_labels, test_labels = train_test_split(\n",
    "    temp_data, temp_labels, test_size=0.5, random_state=42\n",
    ")\n",
    "\n",
    "train_data = torch.tensor(train_data, dtype=torch.float32)\n",
    "val_data = torch.tensor(val_data, dtype=torch.float32)\n",
    "test_data = torch.tensor(test_data, dtype=torch.float32)\n",
    "\n",
    "train_labels = torch.tensor(train_labels, dtype=torch.long)\n",
    "val_labels = torch.tensor(val_labels, dtype=torch.long)\n",
    "test_labels = torch.tensor(test_labels, dtype=torch.long)\n",
    "\n",
    "torch.save({'train_data': train_data, 'train_labels': train_labels}, 'preprocessed_data_train.pt')\n",
    "torch.save({'val_data': val_data, 'val_labels': val_labels}, 'preprocessed_data_val.pt') \n",
    "torch.save({'test_data': test_data, 'test_labels': test_labels}, 'preprocessed_data_test.pt')"
   ]
  },
  {
   "cell_type": "code",
   "execution_count": 3,
   "id": "f27d4687-8f00-446d-b9ff-af5f8f14f84e",
   "metadata": {},
   "outputs": [
    {
     "name": "stdout",
     "output_type": "stream",
     "text": [
      "Train data keys: dict_keys(['train_data', 'train_labels'])\n",
      "Validation data keys: dict_keys(['val_data', 'val_labels'])\n",
      "Test data keys: dict_keys(['test_data', 'test_labels'])\n",
      "Train data shape: torch.Size([666136, 400])\n",
      "Train labels shape: torch.Size([666136])\n",
      "Validation data shape: torch.Size([83267, 400])\n",
      "Validation labels shape: torch.Size([83267])\n",
      "Test data shape: torch.Size([83267, 400])\n",
      "Test labels shape: torch.Size([83267])\n",
      "Sample train data:  tensor([[0.0039, 0.0039, 0.0039,  ..., 0.0039, 0.0039, 0.0039],\n",
      "        [1.0000, 1.0000, 1.0000,  ..., 1.0000, 1.0000, 1.0000],\n",
      "        [0.0039, 0.0039, 0.0039,  ..., 0.0039, 0.0039, 0.0039],\n",
      "        [0.5922, 0.6039, 0.6157,  ..., 0.6745, 0.6431, 0.6196],\n",
      "        [0.4784, 0.4784, 0.9137,  ..., 0.9569, 0.6196, 0.4784]])\n",
      "Sample train labels:  tensor([1109,   88,   46,   48,   88])\n",
      "Sample validation data:  tensor([[0.0039, 0.0039, 0.0039,  ..., 0.0039, 0.0039, 0.0039],\n",
      "        [0.0039, 0.0039, 0.0039,  ..., 0.0039, 0.0039, 0.0039],\n",
      "        [1.0000, 1.0000, 1.0000,  ..., 0.0039, 0.0039, 0.0039],\n",
      "        [0.0000, 0.0000, 0.0000,  ..., 1.0000, 1.0000, 1.0000],\n",
      "        [1.0000, 1.0000, 1.0000,  ..., 1.0000, 1.0000, 1.0000]])\n",
      "Sample validation labels:  tensor([40970,    52,    62,    49,  8315])\n",
      "Sample test data:  tensor([[0.3569, 0.3569, 0.4471,  ..., 0.0039, 0.0039, 0.0039],\n",
      "        [0.0039, 0.0039, 0.0039,  ..., 0.0039, 0.0039, 0.0039],\n",
      "        [0.0667, 0.4353, 0.5569,  ..., 0.1098, 0.0039, 0.0039],\n",
      "        [0.0039, 0.0039, 0.0039,  ..., 0.0039, 0.0039, 0.0039],\n",
      "        [0.0039, 0.0039, 0.0039,  ..., 0.0039, 0.0039, 0.0039]])\n",
      "Sample test labels:  tensor([ 84, 238, 385, 697, 126])\n"
     ]
    }
   ],
   "source": [
    "train_data = torch.load('preprocessed_data_train.pt')\n",
    "val_data = torch.load('preprocessed_data_val.pt')\n",
    "test_data = torch.load('preprocessed_data_test.pt')\n",
    "\n",
    "print(f\"Train data keys: {train_data.keys()}\")\n",
    "print(f\"Validation data keys: {val_data.keys()}\")\n",
    "print(f\"Test data keys: {test_data.keys()}\")\n",
    "\n",
    "print(f\"Train data shape: {train_data['train_data'].shape}\")\n",
    "print(f\"Train labels shape: {train_data['train_labels'].shape}\")\n",
    "print(f\"Validation data shape: {val_data['val_data'].shape}\")\n",
    "print(f\"Validation labels shape: {val_data['val_labels'].shape}\")\n",
    "print(f\"Test data shape: {test_data['test_data'].shape}\")\n",
    "print(f\"Test labels shape: {test_data['test_labels'].shape}\")\n",
    "\n",
    "print(\"Sample train data: \", train_data['train_data'][:5])\n",
    "print(\"Sample train labels: \", train_data['train_labels'][:5])\n",
    "print(\"Sample validation data: \", val_data['val_data'][:5])\n",
    "print(\"Sample validation labels: \", val_data['val_labels'][:5])\n",
    "print(\"Sample test data: \", test_data['test_data'][:5])\n",
    "print(\"Sample test labels: \", test_data['test_labels'][:5])"
   ]
  },
  {
   "cell_type": "code",
   "execution_count": 4,
   "id": "0dcf6b5b-69f4-4aca-80fc-44b2bbd2ad85",
   "metadata": {},
   "outputs": [
    {
     "data": {
      "image/png": "[encoded data removed]",
      "text/plain": [
       "<Figure size 640x480 with 1 Axes>"
      ]
     },
     "metadata": {},
     "output_type": "display_data"
    }
   ],
   "source": [
    "import matplotlib.pyplot as plt\n",
    "\n",
    "image = train_data['train_data'][0]\n",
    "label = train_data['train_labels'][0]\n",
    "\n",
    "image = image.view(20, 20)\n",
    "\n",
    "plt.imshow(image, cmap='gray')\n",
    "plt.title(f\"Label: {chr(label.item())}\")\n",
    "plt.show()"
   ]
  },
  {
   "cell_type": "code",
   "execution_count": null,
   "id": "fc4fd36e-88a1-4d6e-b72f-e76eddbcf315",
   "metadata": {},
   "outputs": [],
   "source": []
  }
 ],
 "metadata": {
  "kernelspec": {
   "display_name": "Python 3 (ipykernel)",
   "language": "python",
   "name": "python3"
  },
  "language_info": {
   "codemirror_mode": {
    "name": "ipython",
    "version": 3
   },
   "file_extension": ".py",
   "mimetype": "text/x-python",
   "name": "python",
   "nbconvert_exporter": "python",
   "pygments_lexer": "ipython3",
   "version": "3.10.14"
  }
 },
 "nbformat": 4,
 "nbformat_minor": 5
}
